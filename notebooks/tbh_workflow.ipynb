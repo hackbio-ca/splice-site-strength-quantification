{
 "cells": [
  {
   "cell_type": "markdown",
   "id": "3d73cae0",
   "metadata": {},
   "source": [
    "# Preparation"
   ]
  },
  {
   "cell_type": "markdown",
   "id": "e33d4eec",
   "metadata": {},
   "source": [
    "## Import packages"
   ]
  },
  {
   "cell_type": "code",
   "execution_count": 1,
   "id": "b9b9e61e-5776-4733-bd9a-fd742c4c754f",
   "metadata": {},
   "outputs": [],
   "source": [
    "# Inputs – from Nuo\n",
    "import pickle\n",
    "import torch\n",
    "from torch import nn\n",
    "import numpy as np\n",
    "from torch.nn import Module\n",
    "from sklearn import metrics \n",
    "import matplotlib.pyplot as plt"
   ]
  },
  {
   "cell_type": "markdown",
   "id": "f7c17899",
   "metadata": {},
   "source": [
    "## Load traning and testing datasets"
   ]
  },
  {
   "cell_type": "markdown",
   "id": "f7f77f8e",
   "metadata": {},
   "source": [
    "### Full-length transcripts"
   ]
  },
  {
   "cell_type": "code",
   "execution_count": 87,
   "id": "21781f12",
   "metadata": {},
   "outputs": [],
   "source": [
    "with open(\"proc/training_dataset.pkl\", \"rb\") as f:\n",
    "    training_dataset = pickle.load(f)\n",
    "\n",
    "with open(\"proc/test_dataset.pkl\", \"rb\") as f:\n",
    "    test_dataset = pickle.load(f)"
   ]
  },
  {
   "cell_type": "markdown",
   "id": "325f1799",
   "metadata": {},
   "source": [
    "### 80nt transcripts"
   ]
  },
  {
   "cell_type": "code",
   "execution_count": 2,
   "id": "aab20be2",
   "metadata": {},
   "outputs": [],
   "source": [
    "with open(\"proc/training_dataset_80nt.pkl\", \"rb\") as f:\n",
    "    training_dataset = pickle.load(f)\n",
    "\n",
    "with open(\"proc/test_dataset_80nt.pkl\", \"rb\") as f:\n",
    "    test_dataset = pickle.load(f)"
   ]
  },
  {
   "cell_type": "markdown",
   "id": "7e28c975",
   "metadata": {},
   "source": [
    "### Define NtDataset"
   ]
  },
  {
   "cell_type": "code",
   "execution_count": 7,
   "id": "349564d3-b39b-46b7-919f-2854fb2958df",
   "metadata": {},
   "outputs": [],
   "source": [
    "# Dataset – from Hannah and Lucas\n",
    "\n",
    "class NtDataset:\n",
    "    \"\"\"Nucleotide sequence + splice sites dataset.\"\"\"\n",
    "    def __init__(self, dataset):\n",
    "        self.dataset = dataset\n",
    "        self.map = {'A':0, 'G':1, 'C':2, 'T':3}\n",
    "        \n",
    "    def __len__(self):\n",
    "        return len(self.dataset)\n",
    "    \n",
    "    def __getitem__(self, idx):\n",
    "        nt_seq = self.dataset[idx][0]\n",
    "        strengths = self.dataset[idx][1]\n",
    "        \n",
    "        tokenized_seq = []\n",
    "        \n",
    "        for letter in nt_seq:\n",
    "            tokenized_seq.append(self.map[letter])\n",
    "            \n",
    "        return torch.tensor(tokenized_seq), torch.tensor(strengths).type(torch.LongTensor)"
   ]
  },
  {
   "cell_type": "markdown",
   "id": "58006e4f",
   "metadata": {},
   "source": [
    "## Model"
   ]
  },
  {
   "cell_type": "code",
   "execution_count": 8,
   "id": "2f518114-428d-4a1b-8ddd-593eaa447046",
   "metadata": {},
   "outputs": [],
   "source": [
    "# from torch.optim import optim\n",
    "\n",
    "class SpliceFormer(nn.Module):\n",
    "    \"\"\"Transformer for splice site prediction\"\"\"\n",
    "\n",
    "    def __init__(\n",
    "        self,\n",
    "        vocab_size:int,\n",
    "        model_dim: int,\n",
    "        n_attn_heads: int,\n",
    "        n_encoder_layers: int,\n",
    "        hidden_act: Module,\n",
    "        dropout: float,\n",
    "    ) -> None:\n",
    "\n",
    "        super().__init__()\n",
    "\n",
    "        self.encoder_layer = nn.TransformerEncoderLayer(\n",
    "            d_model=model_dim,\n",
    "            nhead=n_attn_heads,\n",
    "            dim_feedforward=model_dim,\n",
    "            dropout=dropout,\n",
    "            activation=hidden_act,\n",
    "            batch_first=True)\n",
    "\n",
    "        self.embedding = nn.Embedding(\n",
    "            vocab_size, embedding_dim=model_dim)\n",
    "        \n",
    "        self.vocab_size = vocab_size\n",
    "\n",
    "        self.encoder = nn.TransformerEncoder(\n",
    "            encoder_layer=self.encoder_layer, num_layers=n_encoder_layers)\n",
    "\n",
    "        self.out_layer = nn.Linear(in_features=model_dim, out_features=3, bias=False)\n",
    "        # self.lm_head.weight = self.embedding.weight\n",
    "\n",
    "    def forward(self, inputs):\n",
    "        #self.vocab_size,\n",
    "        x_emb = self.embedding(inputs)\n",
    "\n",
    "        # inputs: (batch_size, seq_len, n_tokens)\n",
    "        encoder_output = self.encoder(x_emb)\n",
    "        outputs = self.out_layer(encoder_output)\n",
    "\n",
    "        return outputs"
   ]
  },
  {
   "cell_type": "markdown",
   "id": "5f5eb54b",
   "metadata": {},
   "source": [
    "# Training"
   ]
  },
  {
   "cell_type": "code",
   "execution_count": 11,
   "id": "1ef70f37",
   "metadata": {},
   "outputs": [],
   "source": [
    "training_dataset_subset = training_dataset[:200]"
   ]
  },
  {
   "cell_type": "code",
   "execution_count": null,
   "id": "3155d762-4a17-42f5-a9e3-c9668f3f9b3a",
   "metadata": {},
   "outputs": [],
   "source": [
    "# Training\n",
    "\n",
    "n_epochs = 40\n",
    "nucleotide_loader = NtDataset(training_dataset_subset)\n",
    "loss_fn = nn.CrossEntropyLoss()\n",
    "splice_model = SpliceFormer(vocab_size=4, \n",
    "                            model_dim=64, \n",
    "                            n_attn_heads=2, \n",
    "                            n_encoder_layers=2, \n",
    "                            hidden_act=nn.ReLU(), \n",
    "                            dropout=0.1)\n",
    "\n",
    "optimizer = torch.optim.AdamW(splice_model.parameters(), lr=0.00001)\n",
    "\n",
    "BATCH_SIZE = 32\n",
    "\n",
    "# training loop \n",
    "for epoch in range(n_epochs):\n",
    "\n",
    "    # running_loss = 0.0\n",
    "    running_loss = []\n",
    "    grad_iter = 0\n",
    "    for seq_number, nucleotide_seq in enumerate(nucleotide_loader):\n",
    "        inputs, labels = nucleotide_seq\n",
    "\n",
    "        grad_iter += 1\n",
    "\n",
    "        # optimizer.zero_grad()\n",
    "        \n",
    "        # error is here!\n",
    "        outputs = splice_model(inputs)\n",
    "        # print(outputs)\n",
    "        # print(labels)\n",
    "\n",
    "        total_loss = loss_fn(outputs, labels) / BATCH_SIZE\n",
    "        total_loss.backward()\n",
    "        \n",
    "        if grad_iter % BATCH_SIZE == 0:\n",
    "            # optimizer.zero_grad()\n",
    "            optimizer.step()\n",
    "            optimizer.zero_grad()\n",
    "            grad_iter = 0\n",
    "\n",
    "        # running_loss += total_loss.item()\n",
    "        running_loss.append(total_loss.item())\n",
    "        if seq_number % 20000 == 0:\n",
    "            print(f'epoch: {epoch}, step: {seq_number}, loss: {sum(running_loss) / len(running_loss)}')\n",
    "            running_loss = []\n",
    "            torch.save(splice_model.state_dict(), f'proc/tbh_model_{seq_number}.pth')\n",
    "            # torch.save(splice_model.state_dict(), f'/tbh_model.pth')\n",
    "            # running_loss = 0.0\n",
    "\n",
    "            \n",
    "print(\"Finished training!\\nFinal loss value:\", total_loss)\n",
    "torch.save(splice_model.state_dict(), '.proc/tbh_model_final.pth')"
   ]
  },
  {
   "cell_type": "code",
   "execution_count": null,
   "id": "618b7f0d",
   "metadata": {},
   "outputs": [],
   "source": [
    "test_loader = NtDataset(test_dataset)\n",
    "splice_test = SpliceFormer()\n",
    "\n",
    "y_pred, y_actual = [], []\n",
    "\n",
    "with torch.no_grad():\n",
    "    for data in test_loader:\n",
    "\n",
    "        inputs, labels = data\n",
    "        outputs = splice_test(nucleotide_seq)\n",
    "        _, predicted = torch.max(outputs, 1)\n",
    "\n",
    "        y_pred.extend(predicted)\n",
    "        y_actual.extend(labels)\n",
    "\n",
    "\n",
    "confusion_matrix = metrics.confusion_matrix(y_actual, y_pred)\n",
    "cm_display = metrics.ConfusionMatrixDisplay(confusion_matrix=confusion_matrix, display_labels=[0,1,2])\n",
    "cm_display.plot(cmap='GnBu')\n",
    "plt.show()"
   ]
  },
  {
   "cell_type": "code",
   "execution_count": null,
   "id": "cd200d59-6665-487f-80ff-b8e292d97c90",
   "metadata": {},
   "outputs": [],
   "source": []
  }
 ],
 "metadata": {
  "kernelspec": {
   "display_name": "Python 3 (ipykernel)",
   "language": "python",
   "name": "python3"
  },
  "language_info": {
   "codemirror_mode": {
    "name": "ipython",
    "version": 3
   },
   "file_extension": ".py",
   "mimetype": "text/x-python",
   "name": "python",
   "nbconvert_exporter": "python",
   "pygments_lexer": "ipython3",
   "version": "3.12.3"
  }
 },
 "nbformat": 4,
 "nbformat_minor": 5
}
